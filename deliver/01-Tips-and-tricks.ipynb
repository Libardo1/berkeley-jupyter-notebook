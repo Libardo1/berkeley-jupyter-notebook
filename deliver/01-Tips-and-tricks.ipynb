{
 "cells": [
  {
   "cell_type": "markdown",
   "metadata": {},
   "source": [
    "# Best practices\n",
    "\n",
    "Let's start with pep8 (https://www.python.org/dev/peps/pep-0008/)\n",
    "\n",
    "> Imports should be grouped in the following order:\n",
    "\n",
    "> - standard library imports\n",
    "> - related third party imports\n",
    "> - local application/library specific imports\n",
    "\n",
    "> You should put a blank line between each group of imports.\n",
    "Put any relevant __all__ specification after the imports.\n",
    "\n"
   ]
  },
  {
   "cell_type": "code",
   "execution_count": null,
   "metadata": {
    "collapsed": false
   },
   "outputs": [],
   "source": [
    "# Couldn't find what to do with 'magic' imports at the top\n",
    "\n",
    "%load_ext autoreload\n",
    "%autoreload 2\n",
    "%matplotlib inline\n",
    "%config InlineBackend.figure_format='retina' \n",
    "\n",
    "from __future__ import division\n",
    "\n",
    "from itertools import combinations\n",
    "import string\n",
    "\n",
    "from IPython.display import IFrame, HTML, YouTubeVideo\n",
    "import matplotlib.pyplot as plt\n",
    "import numpy as np\n",
    "import pandas as pd\n",
    "import scipy as sp\n",
    "import seaborn as sns; sns.set();\n",
    "\n",
    "plt.rcParams['figure.figsize'] = (12, 8)\n",
    "sns.set_style(\"darkgrid\")\n",
    "sns.set_context(\"poster\", font_scale=1.3)"
   ]
  },
  {
   "cell_type": "markdown",
   "metadata": {},
   "source": [
    "# Pivot Tables w/ pandas\n",
    "\n",
    "http://nicolas.kruchten.com/content/2015/09/jupyter_pivottablejs/"
   ]
  },
  {
   "cell_type": "code",
   "execution_count": null,
   "metadata": {
    "collapsed": false
   },
   "outputs": [],
   "source": [
    "YouTubeVideo(\"ZbrRrXiWBKc\")"
   ]
  },
  {
   "cell_type": "code",
   "execution_count": null,
   "metadata": {
    "collapsed": false
   },
   "outputs": [],
   "source": [
    "!pip install pivottablejs"
   ]
  },
  {
   "cell_type": "code",
   "execution_count": null,
   "metadata": {
    "collapsed": false
   },
   "outputs": [],
   "source": [
    "df = pd.read_csv(\"../data/mps.csv\")"
   ]
  },
  {
   "cell_type": "code",
   "execution_count": null,
   "metadata": {
    "collapsed": false
   },
   "outputs": [],
   "source": [
    "df.head()"
   ]
  },
  {
   "cell_type": "code",
   "execution_count": null,
   "metadata": {
    "collapsed": false
   },
   "outputs": [],
   "source": [
    "from pivottablejs import pivot_ui\n",
    "pivot_ui(df)\n",
    "# Province, Party, Average, Age, Heatmap"
   ]
  },
  {
   "cell_type": "markdown",
   "metadata": {},
   "source": [
    "# Keyboard shortcuts"
   ]
  },
  {
   "cell_type": "code",
   "execution_count": null,
   "metadata": {
    "collapsed": true
   },
   "outputs": [],
   "source": [
    "# in select mode, shift j/k (to select multiple cells at once)\n",
    "# split cell with ctrl shift -"
   ]
  },
  {
   "cell_type": "code",
   "execution_count": null,
   "metadata": {
    "collapsed": true
   },
   "outputs": [],
   "source": [
    "first = 1\n",
    "\n",
    "second = 2\n",
    "\n",
    "third = 3"
   ]
  },
  {
   "cell_type": "markdown",
   "metadata": {},
   "source": [
    "# Floating Table of Contents\n",
    "\n",
    "Creates a new button on the `toolbar` that pops up a table of contents that you can navigate by."
   ]
  },
  {
   "cell_type": "markdown",
   "metadata": {},
   "source": [
    "In your documentation if you indent by 4 spaces, you get monospaced code-style code so you can embed in a Markdown cell:\n",
    "\n",
    "\n",
    "    $ mkdir toc\n",
    "    $ cd toc\n",
    "\n",
    "    $ wget https://raw.githubusercontent.com/minrk/ipython_extensions/master/nbextensions/toc.js\n",
    "\n",
    "    $ wget https://raw.githubusercontent.com/minrk/ipython_extensions/master/nbextensions/toc.css\n",
    "    $ cd ..\n",
    "\n",
    "    $ jupyter-nbextension install --user toc\n",
    "\n",
    "    $ jupyter-nbextension enable toc/toc\n",
    "    "
   ]
  },
  {
   "cell_type": "markdown",
   "metadata": {},
   "source": [
    "You can also get syntax highlighting if you tell it the language that you're including: \n",
    "\n",
    "```bash\n",
    "mkdir toc\n",
    "cd toc\n",
    "\n",
    "wget https://raw.githubusercontent.com/minrk/ipython_extensions/master/nbextensions/toc.js\n",
    "\n",
    "wget https://raw.githubusercontent.com/minrk/ipython_extensions/master/nbextensions/toc.css\n",
    "cd ..\n",
    "\n",
    "jupyter-nbextension install --user toc\n",
    "jupyter-nbextension enable toc/toc\n",
    "```"
   ]
  },
  {
   "cell_type": "markdown",
   "metadata": {},
   "source": [
    "# R\n",
    "\n",
    " - [pyRserve](https://pypi.python.org/pypi/pyRserve)\n",
    " - [rpy2](http://rpy.sourceforge.net/)"
   ]
  },
  {
   "cell_type": "code",
   "execution_count": null,
   "metadata": {
    "collapsed": false
   },
   "outputs": [],
   "source": [
    "import rpy2"
   ]
  },
  {
   "cell_type": "code",
   "execution_count": null,
   "metadata": {
    "collapsed": false
   },
   "outputs": [],
   "source": [
    "%load_ext rpy2.ipython"
   ]
  },
  {
   "cell_type": "code",
   "execution_count": null,
   "metadata": {
    "collapsed": true
   },
   "outputs": [],
   "source": [
    "X = np.array([0,1,2,3,4])\n",
    "Y = np.array([3,5,4,6,7])"
   ]
  },
  {
   "cell_type": "code",
   "execution_count": null,
   "metadata": {
    "collapsed": false
   },
   "outputs": [],
   "source": [
    "%%R -i X,Y -o XYcoef\n",
    "XYlm = lm(Y~X)\n",
    "XYcoef = coef(XYlm)\n",
    "print(summary(XYlm))\n",
    "par(mfrow=c(2,2))\n",
    "plot(XYlm)"
   ]
  },
  {
   "cell_type": "code",
   "execution_count": null,
   "metadata": {
    "collapsed": true
   },
   "outputs": [],
   "source": []
  }
 ],
 "metadata": {
  "kernelspec": {
   "display_name": "Python 2",
   "language": "python",
   "name": "python2"
  },
  "language_info": {
   "codemirror_mode": {
    "name": "ipython",
    "version": 2
   },
   "file_extension": ".py",
   "mimetype": "text/x-python",
   "name": "python",
   "nbconvert_exporter": "python",
   "pygments_lexer": "ipython2",
   "version": "2.7.11"
  }
 },
 "nbformat": 4,
 "nbformat_minor": 0
}
