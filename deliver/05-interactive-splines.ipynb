{
 "cells": [
  {
   "cell_type": "code",
   "execution_count": null,
   "metadata": {
    "collapsed": true
   },
   "outputs": [],
   "source": [
    "%matplotlib inline\n",
    "\n",
    "from matplotlib.collections import LineCollection\n",
    "import matplotlib.pyplot as plt\n",
    "from scipy import interpolate\n",
    "import numpy as np\n",
    "from numpy.random import rand\n",
    "\n",
    "from ipywidgets import FloatSlider, interactive, IntSlider"
   ]
  },
  {
   "cell_type": "code",
   "execution_count": null,
   "metadata": {
    "collapsed": true
   },
   "outputs": [],
   "source": [
    "amplitude=2.0\n",
    "phase=0.0\n",
    "\n",
    "x = np.linspace(-2*np.pi, 2*np.pi, 1000)\n",
    "y = amplitude * np.sin(x + phase)\n",
    "\n",
    "plt.rcParams['figure.figsize'] = 8,6\n",
    "plt.figure()\n",
    "plt.plot(x, y)\n",
    "plt.xlim(-3, 3)\n",
    "plt.ylim(-2*np.pi, 2*np.pi)"
   ]
  },
  {
   "cell_type": "code",
   "execution_count": null,
   "metadata": {
    "collapsed": true
   },
   "outputs": [],
   "source": [
    "def simple_ex(amplitude=2.0, phase=0.0):\n",
    "    plt.rcParams['figure.figsize'] = 8,6\n",
    "    plt.figure()\n",
    "    x = np.linspace(-2*np.pi, 2*np.pi, 1000)\n",
    "    y = amplitude * np.sin(x + phase)\n",
    "    plt.plot(x, y)\n",
    "    plt.xlim(-3, 3)\n",
    "    plt.ylim(-2*np.pi, 2*np.pi)\n"
   ]
  },
  {
   "cell_type": "code",
   "execution_count": null,
   "metadata": {
    "collapsed": true
   },
   "outputs": [],
   "source": [
    "amplitude_slider = FloatSlider(value=2.0, min=-10, max=10.0, step=.05)\n",
    "phase_slider = FloatSlider(value=0.0, min=-np.pi, max=np.pi, step=.05)\n",
    "\n",
    "w = interactive(simple_ex,\n",
    "                amplitude=amplitude_slider,\n",
    "                phase=phase_slider\n",
    "               )"
   ]
  },
  {
   "cell_type": "code",
   "execution_count": null,
   "metadata": {
    "collapsed": false
   },
   "outputs": [],
   "source": [
    "w"
   ]
  },
  {
   "cell_type": "code",
   "execution_count": null,
   "metadata": {
    "collapsed": false
   },
   "outputs": [],
   "source": [
    "def spline_demo(num=14, smooth=0, seed=10, brush_strokes=30, alpha=0.5):\n",
    "    a = np.random.RandomState(seed=seed)\n",
    "    x = a.rand(num)\n",
    "    y = a.rand(num)\n",
    "    t = np.arange(0, 1.1, .1)\n",
    "    plt.rcParams['figure.figsize'] = 8,8\n",
    "    plt.figure()\n",
    "    for _ in xrange(brush_strokes):\n",
    "        tck, u = interpolate.splprep([x+a.rand(num)/10.0,y+a.rand(num)/10.0], s=smooth)\n",
    "        unew = np.arange(0, 1.01, 0.001)\n",
    "        out = interpolate.splev(unew, tck)\n",
    "        plt.plot(out[0], out[1], alpha=alpha, c='black', linewidth=3.0)\n",
    "    plt.xlim(-1.5, 2.5)\n",
    "    plt.ylim(-1.5, 2.5)\n",
    "    plt.axis('off')\n",
    "\n",
    "smooth_slider = FloatSlider(value=0, min=0, max=20.0, step=.1)\n",
    "num_points_slider = IntSlider(value=8, min=4, max=20)\n",
    "seed_slider = IntSlider(value=4, min=4, max=20)\n",
    "brush_slider = IntSlider(value=1, min=1, max=20)\n",
    "alpha_slider = FloatSlider(value=.5, min=0, max=1.0, step=.05)\n",
    "\n",
    "w=interactive(spline_demo,\n",
    "              smooth=smooth_slider, \n",
    "              num=num_points_slider, \n",
    "              seed=seed_slider, \n",
    "              brush_strokes=brush_slider,\n",
    "              alpha=alpha_slider)\n",
    "w"
   ]
  },
  {
   "cell_type": "code",
   "execution_count": null,
   "metadata": {
    "collapsed": true
   },
   "outputs": [],
   "source": []
  }
 ],
 "metadata": {
  "kernelspec": {
   "display_name": "Python 2",
   "language": "python",
   "name": "python2"
  },
  "language_info": {
   "codemirror_mode": {
    "name": "ipython",
    "version": 2
   },
   "file_extension": ".py",
   "mimetype": "text/x-python",
   "name": "python",
   "nbconvert_exporter": "python",
   "pygments_lexer": "ipython2",
   "version": "2.7.11"
  }
 },
 "nbformat": 4,
 "nbformat_minor": 0
}
