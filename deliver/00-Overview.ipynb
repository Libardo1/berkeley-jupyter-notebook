{
 "cells": [
  {
   "cell_type": "markdown",
   "metadata": {},
   "source": [
    "# Berkeley Institute for Data Science\n",
    "\n",
    "## Jupyter Notebook Tips and Tricks\n",
    "\n",
    "By: [Jonathan Whitmore](http://jonathanwhitmore.com/) -- Silicon Valley Data Science\n",
    "\n",
    " - Email: [jbwhit@gmail.com](mailto:jbwhit@gmail.com)\n",
    " - Twitter: [@jbwhitmore](https://twitter.com/jbwhitmore)\n",
    " - LinkedIn: [jonathanbwhitmore](https://www.linkedin.com/in/jonathanbwhitmore)\n",
    "\n",
    "All notebooks available: https://github.com/jbwhit/berkeley-jupyter-notebook"
   ]
  },
  {
   "cell_type": "markdown",
   "metadata": {},
   "source": [
    "## Table of Contents\n",
    "\n",
    "   1. Overview\n",
    "   1. Tips and tricks\n",
    "   1. Visualization and code organization\n",
    "   1. Some basics\n",
    "    1. More basics\n",
    "    1. interactive splines\n",
    "    1. Pandas Plotting\n",
    "    1. SQL Example\n",
    "    1. R stuff\n",
    "    1. Extras"
   ]
  },
  {
   "cell_type": "markdown",
   "metadata": {},
   "source": [
    "### Themes\n",
    "\n",
    " - Workflow matters\n",
    "  - Make repeated actions as automatic as possible\n",
    " - Adhere to best practices as best you can (unless you have a really good reason not to). \n",
    "  1. You will have to collaborate on teams -- code quality matters. \n",
    "  1. PEP8 things\n",
    " - Learn your tools\n",
    " - Don't try to take notes, just let this wash over you.\n",
    "  - Not knowing what's possible is a cognitive blindspot.\n",
    " - These Notebooks will be available to you."
   ]
  },
  {
   "cell_type": "code",
   "execution_count": null,
   "metadata": {
    "collapsed": true
   },
   "outputs": [],
   "source": []
  }
 ],
 "metadata": {
  "kernelspec": {
   "display_name": "Python 2",
   "language": "python",
   "name": "python2"
  },
  "language_info": {
   "codemirror_mode": {
    "name": "ipython",
    "version": 2
   },
   "file_extension": ".py",
   "mimetype": "text/x-python",
   "name": "python",
   "nbconvert_exporter": "python",
   "pygments_lexer": "ipython2",
   "version": "2.7.11"
  }
 },
 "nbformat": 4,
 "nbformat_minor": 0
}
